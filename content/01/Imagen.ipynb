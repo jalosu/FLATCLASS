{
 "cells": [
  {
   "cell_type": "markdown",
   "id": "dc7b845c-abde-4dbc-a0fa-6e6c3265cf7f",
   "metadata": {},
   "source": [
    "# Sistema de visión artificial "
   ]
  },
  {
   "cell_type": "markdown",
   "id": "1d11716b-d338-4ff3-8a32-dd7f1fd5349f",
   "metadata": {},
   "source": [
    "````{admonition} Resumen \n",
    ":class: tip\n",
    "\n",
    "El presente documento recoge los trabajos relativos al módulo de visión artificial de **FLATCLASS**. Este módulo es el responsable de la adquisición, normalizado, segmentación y extracción de las características mormométricas de los alevines de lenguado. \n",
    "\n",
    "**Entregable**: E1.2  \n",
    "**Versión**: 1.0  \n",
    "**Autor**: Javier Álvarez Osuna  \n",
    "**Email**: javier.osuna@fishfarmfeeder.com  \n",
    "**ORCID**: [0000-0001-7063-1279](https://orcid.org/0000-0001-7063-1279)  \n",
    "**Licencia**: CC-BY-4.0  \n",
    "**Código proyecto**: IG408M.2025.000.000072\n",
    "\n",
    "```{figure} .././assets/FLATCLASS_logo_publicidad.png\n",
    ":width: 100%\n",
    ":align: center\n",
    "```\n",
    "\n",
    "````"
   ]
  },
  {
   "cell_type": "markdown",
   "id": "6dde3a71-a54d-41e0-8588-a2bc6b72f388",
   "metadata": {},
   "source": [
    "## Introducción"
   ]
  },
  {
   "cell_type": "code",
   "execution_count": null,
   "id": "c56fdf26-25d0-44aa-857a-1de5437d9ed3",
   "metadata": {},
   "outputs": [],
   "source": []
  }
 ],
 "metadata": {
  "kernelspec": {
   "display_name": "Python 3 (ipykernel)",
   "language": "python",
   "name": "python3"
  },
  "language_info": {
   "codemirror_mode": {
    "name": "ipython",
    "version": 3
   },
   "file_extension": ".py",
   "mimetype": "text/x-python",
   "name": "python",
   "nbconvert_exporter": "python",
   "pygments_lexer": "ipython3",
   "version": "3.12.0"
  }
 },
 "nbformat": 4,
 "nbformat_minor": 5
}
