{
 "cells": [
  {
   "cell_type": "markdown",
   "id": "437f99b9-fd6a-4e89-a0dc-731a80f1fabf",
   "metadata": {},
   "source": [
    "# M3 - Imagen"
   ]
  },
  {
   "cell_type": "markdown",
   "id": "40bae0a6-6def-486a-9471-a750bc366c15",
   "metadata": {},
   "source": [
    "Este módulo es el núcleo del sistema de visión artificial. Operativamente está compuesto por cuatro bloques funcionales que siguen el flujo recogido en la siguiente imagen:\n",
    "\n",
    "```{figure} .././assets/Modulo-3.png\n",
    ":name: Figura_WP1_imagen.5\n",
    ":alt: UML del modúlo de visión artificial\n",
    ":width: 25%\n",
    ":align: center\n",
    "\n",
    "Bloques funcionales del módulo de imagen (visión artificial)\n",
    "```\n",
    "El motor de este módulo se sustenta sobre la librería GrabCut\n"
   ]
  },
  {
   "cell_type": "code",
   "execution_count": 17,
   "id": "ff752246-806b-446e-8072-d6d6c4097c79",
   "metadata": {},
   "outputs": [],
   "source": [
    "import cv2, json, math, numpy as np, pandas as pd\n",
    "import matplotlib.pyplot as plt\n",
    "from pathlib import Path\n",
    "\n",
    "IMG_PATH = \"./P22C-ML_0_calibrated.png\"\n",
    "OUT_OVERLAY = \"./sole_overlay_mm_v2.png\"\n",
    "OUT_MASK = \"./sole_mask_v2.png\"\n",
    "OUT_CSV = \"./sole_measurements_v2.csv\"\n",
    "SCALE_JSON = \"./calibracion_px_mm.json\""
   ]
  },
  {
   "cell_type": "code",
   "execution_count": 11,
   "id": "19397792-8978-4df0-926d-c03a698aa1b7",
   "metadata": {},
   "outputs": [],
   "source": [
    "def get_scale_mm_per_px():\n",
    "    try:\n",
    "        from get_mm_per_px import get_mm_per_px\n",
    "        val = float(get_mm_per_px()); \n",
    "        if val > 0: return val\n",
    "    except Exception:\n",
    "        pass\n",
    "    p = Path(SCALE_JSON)\n",
    "    if p.exists():\n",
    "        try:\n",
    "            data = json.loads(p.read_text())\n",
    "            val = float(data.get(\"mm_per_px\", 0))\n",
    "            if val > 0: return val\n",
    "        except Exception:\n",
    "            pass\n",
    "    return None\n"
   ]
  },
  {
   "cell_type": "code",
   "execution_count": 12,
   "id": "3d34a8b7-87e2-47e5-81c1-a0f9ebd6db95",
   "metadata": {},
   "outputs": [],
   "source": [
    "def segment_with_grabcut(bgr):\n",
    "    hsv = cv2.cvtColor(bgr, cv2.COLOR_BGR2HSV)\n",
    "    h,s,v = cv2.split(hsv)\n",
    "    clahe = cv2.createCLAHE(clipLimit=2.0, tileGridSize=(8,8))\n",
    "    v = clahe.apply(v)\n",
    "    hsv_eq = cv2.merge([h,s,v])\n",
    "    bgr_eq = cv2.cvtColor(hsv_eq, cv2.COLOR_HSV2BGR)\n",
    "\n",
    "    hsv2 = cv2.cvtColor(bgr_eq, cv2.COLOR_BGR2HSV)\n",
    "    lower_blue = np.array([95, 120, 40], dtype=np.uint8)\n",
    "    upper_blue = np.array([130, 255, 255], dtype=np.uint8)\n",
    "    blue_mask = cv2.inRange(hsv2, lower_blue, upper_blue)\n",
    "\n",
    "    edge_margin = 20\n",
    "    bg_border = np.zeros(blue_mask.shape, np.uint8)\n",
    "    bg_border[:edge_margin, :] = 255\n",
    "    bg_border[-edge_margin:, :] = 255\n",
    "    bg_border[:, :edge_margin] = 255\n",
    "    bg_border[:, -edge_margin:] = 255\n",
    "\n",
    "    gc_mask = np.full(blue_mask.shape, cv2.GC_PR_BGD, dtype=np.uint8)\n",
    "    gc_mask[blue_mask > 0] = cv2.GC_BGD\n",
    "    gc_mask[bg_border > 0] = cv2.GC_BGD\n",
    "\n",
    "    hgt, wdt = gc_mask.shape\n",
    "    cx0, cy0 = wdt//2, hgt//2\n",
    "    rect_w, rect_h = int(wdt*0.40), int(hgt*0.55)\n",
    "    x1, y1 = max(cx0-rect_w, 0), max(cy0-rect_h, 0)\n",
    "    x2, y2 = min(cx0+rect_w, wdt-1), min(cy0+rect_h, hgt-1)\n",
    "    gc_mask[y1:y2, x1:x2] = np.where(blue_mask[y1:y2, x1:x2] == 0,\n",
    "                                     cv2.GC_PR_FGD, gc_mask[y1:y2, x1:x2])\n",
    "\n",
    "    bg_model = np.zeros((1,65), np.float64)\n",
    "    fg_model = np.zeros((1,65), np.float64)\n",
    "    cv2.grabCut(bgr_eq, gc_mask, None, bg_model, fg_model, 7, cv2.GC_INIT_WITH_MASK)\n",
    "\n",
    "    bin_mask = np.where((gc_mask == cv2.GC_FGD) | (gc_mask == cv2.GC_PR_FGD), 1, 0).astype('uint8')\n",
    "    kernel = cv2.getStructuringElement(cv2.MORPH_ELLIPSE, (9,9))\n",
    "    bin_clean = cv2.morphologyEx(bin_mask, cv2.MORPH_OPEN, kernel, iterations=1)\n",
    "    bin_clean = cv2.morphologyEx(bin_clean, cv2.MORPH_CLOSE, kernel, iterations=2)\n",
    "    return bin_clean"
   ]
  },
  {
   "cell_type": "code",
   "execution_count": 13,
   "id": "f80bd7cf-bd36-473c-921d-3f06410db493",
   "metadata": {},
   "outputs": [],
   "source": [
    "def pick_sole_contour(bin_mask):\n",
    "    cnts, _ = cv2.findContours((bin_mask*255).astype(np.uint8), cv2.RETR_EXTERNAL, cv2.CHAIN_APPROX_NONE)\n",
    "    if not cnts:\n",
    "        raise RuntimeError(\"No se detectaron contornos; ajusta semillas/umbrales.\")\n",
    "    def contour_score(c):\n",
    "        area = cv2.contourArea(c)\n",
    "        if area < 500: return -1\n",
    "        (w,h) = cv2.minAreaRect(c)[1]\n",
    "        if w == 0 or h == 0: return -1\n",
    "        aspect = max(w,h)/max(1.0, min(w,h))\n",
    "        return area + 2000.0*max(0.0, aspect-1.5)\n",
    "    return max(cnts, key=contour_score)"
   ]
  },
  {
   "cell_type": "code",
   "execution_count": 14,
   "id": "be5540b1-8ac9-4ab7-b964-3cd6160dcdc8",
   "metadata": {},
   "outputs": [],
   "source": [
    "def pca_measures_from_contour(cnt):\n",
    "    pts = cnt.reshape(-1,2).astype(np.float32)\n",
    "    mean, eigvecs, eigvals = cv2.PCACompute2(pts, mean=None)\n",
    "    mean = mean.flatten()\n",
    "    R = np.asarray(eigvecs, dtype=np.float32)\n",
    "    pts_c = pts - mean\n",
    "    pts_r = pts_c @ R.T\n",
    "    min_x, max_x = np.min(pts_r[:,0]), np.max(pts_r[:,0])\n",
    "    min_y, max_y = np.min(pts_r[:,1]), np.max(pts_r[:,1])\n",
    "    length_px = (max_x - min_x)\n",
    "    width_px  = (max_y - min_y)\n",
    "    # eje mayor\n",
    "    i_max = np.argmax(pts_r[:,0]); i_min = np.argmin(pts_r[:,0])\n",
    "    p1 = (np.array([pts_r[i_min,0], 0.0], dtype=np.float32) @ R) + mean\n",
    "    p2 = (np.array([pts_r[i_max,0], 0.0], dtype=np.float32) @ R) + mean\n",
    "    # caja orientada\n",
    "    box_r = np.array([[min_x,min_y],[max_x,min_y],[max_x,max_y],[min_x,max_y]], dtype=np.float32)\n",
    "    box_img = (box_r @ R) + mean\n",
    "    box_img = np.int32(box_img)\n",
    "    return length_px, width_px, p1, p2, box_img"
   ]
  },
  {
   "cell_type": "code",
   "execution_count": 15,
   "id": "b09f68fc-8792-4d3c-bf91-3f306762cde2",
   "metadata": {},
   "outputs": [],
   "source": [
    "# === Ejecutar ===\n",
    "bgr = cv2.imread(IMG_PATH, cv2.IMREAD_COLOR)\n",
    "rgb = cv2.cvtColor(bgr, cv2.COLOR_BGR2RGB)\n",
    "\n",
    "mask = segment_with_grabcut(bgr)\n",
    "cnt = pick_sole_contour(mask)\n",
    "length_px, width_px, p1, p2, box_img = pca_measures_from_contour(cnt)"
   ]
  },
  {
   "cell_type": "code",
   "execution_count": 16,
   "id": "dc09b4a9-44c1-4ef1-8ca5-4b7e0660dd04",
   "metadata": {},
   "outputs": [
    {
     "name": "stdout",
     "output_type": "stream",
     "text": [
      "Mediciones actualizadas:\n",
      "                image_path  length_px   width_px  area_px2  mm_per_px  length_mm  width_mm  area_mm2\n",
      "./P22C-ML_0_calibrated.png 625.009644 287.143677  135660.0       0.05  31.250483 14.357184    339.15\n",
      "\n",
      "Overlay: ./sole_overlay_mm_v2.png\n",
      "Máscara: ./sole_mask_v2.png\n",
      "CSV:     ./sole_measurements_v2.csv\n"
     ]
    }
   ],
   "source": [
    "mask = segment_with_grabcut(bgr)\n",
    "cnt = pick_sole_contour(mask)\n",
    "length_px, width_px, p1, p2, box_img = pca_measures_from_contour(cnt)\n",
    "\n",
    "# Área en píxeles^2 a partir del contorno\n",
    "area_px2 = float(cv2.contourArea(cnt))\n",
    "\n",
    "# Overlay\n",
    "overlay = rgb.copy()\n",
    "cv2.drawContours(overlay, [cnt], -1, (0,255,0), 3)           # perímetro\n",
    "cv2.polylines(overlay, [box_img], True, (255,255,0), 2)      # caja PCA\n",
    "cv2.line(overlay, tuple(np.int32(p1)), tuple(np.int32(p2)), (255,0,0), 2)\n",
    "\n",
    "cv2.imwrite(OUT_MASK, (mask*255))\n",
    "cv2.imwrite(OUT_OVERLAY, cv2.cvtColor(overlay, cv2.COLOR_RGB2BGR))\n",
    "\n",
    "# Escala\n",
    "mm_per_px = get_scale_mm_per_px()\n",
    "if mm_per_px is not None and mm_per_px > 0:\n",
    "    length_mm = length_px * mm_per_px\n",
    "    width_mm  = width_px * mm_per_px\n",
    "    area_mm2  = area_px2 * (mm_per_px**2)\n",
    "else:\n",
    "    length_mm = float(\"nan\"); width_mm = float(\"nan\"); area_mm2 = float(\"nan\")\n",
    "\n",
    "# Exportar CSV con área incluida\n",
    "df = pd.DataFrame([{\n",
    "    \"image_path\": IMG_PATH,\n",
    "    \"length_px\": float(length_px),\n",
    "    \"width_px\": float(width_px),\n",
    "    \"area_px2\": float(area_px2),\n",
    "    \"mm_per_px\": (float(mm_per_px) if mm_per_px else float(\"nan\")),\n",
    "    \"length_mm\": float(length_mm),\n",
    "    \"width_mm\": float(width_mm),\n",
    "    \"area_mm2\": float(area_mm2)\n",
    "}])\n",
    "df.to_csv(OUT_CSV, index=False)\n",
    "\n",
    "print(\"Mediciones actualizadas:\")\n",
    "print(df.to_string(index=False))\n",
    "print(f\"\\nOverlay: {OUT_OVERLAY}\")\n",
    "print(f\"Máscara: {OUT_MASK}\")\n",
    "print(f\"CSV:     {OUT_CSV}\")"
   ]
  },
  {
   "cell_type": "code",
   "execution_count": null,
   "id": "c010a2da-67bd-4740-816a-9850aae99688",
   "metadata": {},
   "outputs": [],
   "source": []
  }
 ],
 "metadata": {
  "kernelspec": {
   "display_name": "Python 3 (ipykernel)",
   "language": "python",
   "name": "python3"
  },
  "language_info": {
   "codemirror_mode": {
    "name": "ipython",
    "version": 3
   },
   "file_extension": ".py",
   "mimetype": "text/x-python",
   "name": "python",
   "nbconvert_exporter": "python",
   "pygments_lexer": "ipython3",
   "version": "3.12.0"
  }
 },
 "nbformat": 4,
 "nbformat_minor": 5
}
