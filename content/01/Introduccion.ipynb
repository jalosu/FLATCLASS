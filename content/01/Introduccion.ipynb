{
 "cells": [
  {
   "cell_type": "markdown",
   "id": "2aeb4ca7-0271-44a9-be72-ed259c738c7e",
   "metadata": {
    "editable": true,
    "slideshow": {
     "slide_type": ""
    },
    "tags": []
   },
   "source": [
    "# FLATfish Length and Thickness CLASification System by Artificial Intelligence\n",
    "\n",
    "**Autor**: Javier A. Osuna  \n",
    "**Email**: javier.osuna@fishfarmfeeder.com  \n",
    "**ORCID**: [0000-0001-7063-1279](https://orcid.org/0000-0001-7063-1279)  \n",
    "**Licencia**: CC-BY-4.0  \n",
    "**Palabras clave**: machine learning, artificial intelligence, open-science\n"
   ]
  },
  {
   "cell_type": "markdown",
   "id": "fe00a65d-2c4e-4fbf-a14b-caa4e3b910e3",
   "metadata": {
    "editable": true,
    "slideshow": {
     "slide_type": ""
    },
    "tags": []
   },
   "source": [
    "## Introducción\n",
    "\n",
    "La acuicultura es uno de los sectores de producción de alimentos de más rápido crecimiento a nivel\n",
    "mundial, con un incremento anual del 5.3% en la última década [[FAO, 2024]](https://doi.org/10.4060/cd0683en). Dentro de este sector, la cría de\n",
    "peces planos, como el lenguado (*Solea solea*) y el rodaballo (*Scophthalmus maximus*), representa un\n",
    "nicho importante debido a su alto valor comercial y demanda en mercados gourmet. Sin embargo, la\n",
    "producción de estos peces enfrenta desafíos significativos en la fase de alevinaje, donde la clasificación\n",
    "de alevines por tamaño y la estimación de su peso son procesos críticos para garantizar un crecimiento\n",
    "uniforme y maximizar la supervivencia [[Naylor et al., 2021]](https://doi.org/10.1038/s41586-021-03308-6).\n",
    "\n",
    "Una clasificación de alevines precisa permite la agrupación por tamaños homogéneos, lo cual es crucial para optimizar la alimentación, minimizar la competencia intraespecífica y reducir el riesgo de mortalidad por agresión o estés. Éste es un proceso laborioso propenso a errores que también consume tiempo y recursos, lo que reduce la eficiencia operativa y aumenta los costos de producción [[Papandroulakis et al., 2002]](https://doi.org/10.1016/S0144-8609(01)00091-7). En la actualidad la industria está usando sistemas semi-automáticos para la clasificación de alevines, que si bien suponen una clara mejora, aún presentan limitaciones significativas. Uno de los principales problemas es que estos sistemas suelen basarse en un único criterio de clasificación: el peso o la altura del pez. Esta falta de multifactorialidad en el proceso de clasificación (gradding en térmico anglosajón) limita su sensibilidad y precisión. Por ejemplo, un sistema que solo mide el peso puede pasar por alto variaciones importantes en la morfología del pez, como la longitud o el ancho, que también son indicadores clave de su desarrollo y salud. De manera similar, un sistema que solo considera la altura puede no capturar adecuadamente las diferencias en el volumen o la condición corporal de los alevines, lo que puede llevar a una clasificación subóptima.\n",
    "\n",
    "Esta dependencia de un único parámetro no solo reduce la eficacia del proceso de clasificación, sino que también puede generar resultados inconsistentes. Por ejemplo, dos peces con el mismo peso podrían tener formas corporales muy diferentes, lo que afectaría su crecimiento futuro y su adaptación a los tanques de engorde. Además, estos sistemas semi-automáticos suelen ser extremadamente invasivos, ya que requieren manipulación física para medir el peso o la altura, lo que aumenta el estrés en los peces y puede elevar las tasas de mortalidad hasta un 15% en algunos casos [[Føre et al., 2018]](https://doi.org/10.1016/j.biosystemseng.2017.10.014). Esta falta de sensibilidad en el proceso de gradding limitan la capacidad de los productores para optimizar el manejo de los alevines, lo que puede resultar en una alta variabilidad en el crecimiento y una reducción en la calidad del producto final. no solo afecta la calidad del producto final, sino que también limita la capacidad de los productores para optimizar el manejo de los alevines y garantizar un crecimiento uniforme.\n",
    "\n",
    "La limitación de los sistemas semi-automáticos a un único criterio de clasificación subraya la necesidad de adoptar tecnologías más avanzadas que puedan integrar múltiples parámetros morfométricos en tiempo real. Aquí es donde entra en juego la inteligencia artificial (IA). Tecnologías avanzadas de inteligencia artificial (IA) como el reconocimiento de imágenes (visión por computador) y aprendizaje profundo ofrece una solución prometedora. Las redes neuronales convolucionales (CNN) han demostrado ser herramientas poderosas para tareas de clasificación y segmentación de imágenes en múltiples dominios. Por ejemplo, trabajos recientes han utilizado CNN para la identificación de enfermedades en peces y la estimación de biomasa en sistemas de cultivo [[Hasan et al., 2022](https://doi.org/10.22075/ijnaa.2022.5839), [Haddad et al., 2024](https://www.researchgate.net/publication/384679490_A_Convolutional_Neural_Network_Approach_for_Precision_Fish_Disease_Detection)]. Estas tecnologías no solo ofrecen altos niveles de precisión, sino que también permiten el procesamiento en tiempo real, un requisito indispensable en aplicaciones industriales. En el caso específico de la clasificación de alevines, la IA permite combinar precisión en la identificación de tamaños con la estimación de parámetros morfométricos, como longitud, anchura y superficie visible del pez, para estimar su peso sin necesidad de contacto físico.\n",
    "\n",
    "La capacidad de estos sistemas para proporcionar los datos en tiempo real sobre las poblaciones de alevines proporciona a los operadores información valiosa para la toma de decisiones estratégicas, como el ajuste de tasas de alimentación o el diseño de planes de transferencia a estanques de engorde, lo que mejora significativamente la eficiencia operativa, reduciendo los costos y aumentando la rentabilidad de las operaciones acuícolas [[Kandimalia et al., 2022](https://doi.org/10.3389/fmars.2021.823173)], [[Naylor et al., 2021]](https://doi.org/10.1038/s41586-021-03308-6). Adicionalmente, la implantación de estos sistemas inteligentes de clasificación también contribuye a la sostenibilidad ambiental y económica de las piscifactorías. Al clasificar de forma más precisa y eficiente, se optimizan los recursos alimenticios y se reduce el desperdicio de alimento, que es uno de los costos más significativos en la acuicultura. Mientras que al reducir el estrés y la manipulación de los peces, se minimiza el riesgo de enfermedades y se promueve un crecimiento más saludable y uniforme [[Ashley., 2007](https://doi.org/10.1016/j.applanim.2006.09.001)].\n",
    "\n",
    "**FLATCLASS** es el sistema de clasificación inteligente (gradding) basado en visión artificial y algoritmos de aprendizaje automático desarrollado por FishFarmFeeder (Feeding Systems S.L.). Este sistema optimiza la eficiencia operativa en la industria de la acuicultura al permitir la clasificación precisa y en tiempo real de peces planos en diferentes tamaños, garantizando una integración fluida en las líneas de producción existentes. La implementación de este sistema busca mejorar la productividad, reducir costos operativos y proporcionar datos estadísticos para la optimización del manejo y alimentación de los peces.\n",
    "\n",
    "Este sistema se basa en una arquitectura de procesamiento distribuido que integra visión artificial, algoritmos de procesamiento de imágenes y modelos de aprendizaje automático para la clasificación y estimación del peso de los alevines en tiempo real. El flujo operativo se divide en dos fases principales: una fase de muestreo y parametrización, en la que se establecen los criterios de clasificación a partir del análisis estadístico de una muestra representativa, y una fase de operación continua, en la que el sistema ejecuta la clasificación y la estimación de peso de cada pez mientras este atraviesa la línea de producción.\n",
    "\n",
    "```{figure} ./assets/Modelo_funcional.png\n",
    ":name: Figura_1\n",
    ":alt: Modelo Funcional\n",
    ":width: 100%\n",
    ":align: center\n",
    "```"
   ]
  },
  {
   "cell_type": "markdown",
   "id": "491f9fb8-01aa-4c0e-a89e-b99915815b68",
   "metadata": {},
   "source": [
    "````{bibliography}\n",
    "````"
   ]
  }
 ],
 "metadata": {
  "bibliography": [],
  "kernelspec": {
   "display_name": "Python 3 (ipykernel)",
   "language": "python",
   "name": "python3"
  },
  "language_info": {
   "codemirror_mode": {
    "name": "ipython",
    "version": 3
   },
   "file_extension": ".py",
   "mimetype": "text/x-python",
   "name": "python",
   "nbconvert_exporter": "python",
   "pygments_lexer": "ipython3",
   "version": "3.13.5"
  },
  "suppress_bibliography": true
 },
 "nbformat": 4,
 "nbformat_minor": 5
}
