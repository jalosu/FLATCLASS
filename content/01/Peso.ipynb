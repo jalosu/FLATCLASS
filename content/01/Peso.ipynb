{
 "cells": [
  {
   "cell_type": "markdown",
   "id": "2aeb4ca7-0271-44a9-be72-ed259c738c7e",
   "metadata": {
    "editable": true,
    "slideshow": {
     "slide_type": ""
    },
    "tags": []
   },
   "source": [
    "# Predicción del peso del lenguado a partir de variables morfológicas\n",
    "\n",
    "**Autor**: Javier A. Osuna  \n",
    "**Email**: javier.osuna@fishfarmfeeder.com  \n",
    "**ORCID**: [0000-0001-7063-1279](https://orcid.org/0000-0001-7063-1279)  \n",
    "**Licencia**: CC-BY-4.0  \n",
    "**Palabras clave**: machine learning, artificial intelligence, open-science\n"
   ]
  },
  {
   "cell_type": "markdown",
   "id": "012d2e02-c750-4297-ad7f-58b8f4bbdbd5",
   "metadata": {},
   "source": [
    "```{hint} #### Resumen\n",
    "\n",
    "La predicción del peso del lenguado (*Solea solea*) a partir de su superficie es un problema relevante en acuicultura, especialmente para la optimización de la alimentación y el control del crecimiento. Este estudio presenta un método para el desarrollo de un algoritmo de predicción del peso del lenguado a partir de variables morfológicas extraídas mediante visión artificial. Las variables consideradas incluyen la longitud, la anchura y la superficie real del pez, obtenidas automáticamente a partir de imágenes digitales en condiciones controladas. El algoritmo, basado en técnicas de regresión y aprendizaje automático, se ha diseñado para integrarse en un sistema autónomo de clasificación y estimación de peso en tiempo real, con aplicación directa al *gradding* automatizado de alevines en tres categorías de tamaño: pequeño, mediano y grande. Este enfoque proporciona una solución precisa y escalable para optimizar el manejo de peces en sistemas de acuicultura, contribuyendo a una mejora en la eficiencia operativa y el bienestar animal.\n",
    "\n",
    "```"
   ]
  },
  {
   "cell_type": "markdown",
   "id": "fe00a65d-2c4e-4fbf-a14b-caa4e3b910e3",
   "metadata": {
    "editable": true,
    "slideshow": {
     "slide_type": ""
    },
    "tags": []
   },
   "source": [
    "## Introducción \n",
    "\n",
    "En el desarrollo de modelos predictivos para estimar el peso de lenguados en acuicultura, la disponibilidad de un conjunto de datos amplio y representativo es un factor determinante para garantizar la precisión y robustez del algoritmo. Sin embargo, en muchos casos, la recopilación de datos experimentales es limitada debido a restricciones logísticas, económicas o temporales. Para superar esta limitación, resulta fundamental implementar un algoritmo capaz de generar datos sintéticos de tamaño y peso de lenguados, asegurando así un dataset lo suficientemente extenso y variado. Este conjunto de datos sintético permitirá entrenar y validar de manera más efectiva los algoritmos de predicción de peso, mejorando su capacidad de generalización y minimizando el riesgo de sobreajuste a muestras reducidas.\n",
    "\n",
    "Este artículo presenta las líneas de trabajo desarrolladas, en el marco del proyecto FLATCLASS, para la generación de un dataset sintético de tamaño y peso de lenguados, con el objetivo de proporcionar una base de datos suficientemente amplia y representativa para el entrenamiento y validación de modelos predictivos. Se detallan las metodologías utilizadas en la generación de datos sintéticos, incluyendo la modelización estadística de distribuciones empíricas, técnicas de simulación basadas en procesos de crecimiento biológico y enfoques de aprendizaje automático para la síntesis de datos realistas. Además, se analizan los criterios de validación empleados para garantizar que los datos generados reflejen fielmente las tendencias y variabilidad observadas en poblaciones reales de lenguado, asegurando así su utilidad en el desarrollo de algoritmos precisos y generalizables para la predicción del peso. Los trabajos realizados se han dividido en dos partes: la primera centrada en el **estudio matemático de las relaciones entre las dimensiones morfológicas y el peso de los alevines** a partir de datos experimentales; la segunda en el desarrollo del **algoritmo de inferencia del peso** de un alevin a partir del tamaño del individuo obtenido por visión artificial."
   ]
  },
  {
   "cell_type": "code",
   "execution_count": null,
   "id": "97ed2454-d121-4ede-8011-a899819de51b",
   "metadata": {},
   "outputs": [],
   "source": []
  }
 ],
 "metadata": {
  "bibliography": [],
  "kernelspec": {
   "display_name": "Python 3 (ipykernel)",
   "language": "python",
   "name": "python3"
  },
  "language_info": {
   "codemirror_mode": {
    "name": "ipython",
    "version": 3
   },
   "file_extension": ".py",
   "mimetype": "text/x-python",
   "name": "python",
   "nbconvert_exporter": "python",
   "pygments_lexer": "ipython3",
   "version": "3.13.5"
  },
  "suppress_bibliography": true
 },
 "nbformat": 4,
 "nbformat_minor": 5
}
