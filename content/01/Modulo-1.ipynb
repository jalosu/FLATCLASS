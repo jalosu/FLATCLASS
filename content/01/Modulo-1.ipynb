{
 "cells": [
  {
   "cell_type": "markdown",
   "id": "437f99b9-fd6a-4e89-a0dc-731a80f1fabf",
   "metadata": {},
   "source": [
    "# M1 - Captura"
   ]
  },
  {
   "cell_type": "markdown",
   "id": "d96d72e8-9dff-4254-90bc-76e0b2d8b9b3",
   "metadata": {},
   "source": [
    "\n",
    "Este módulo es el responsable de la adquisición de las imágenes. Funcionalmente este módulo se sustenta sobre una barrera láser - a modo de trigger - a la entrada del canal (cinta transportadora) que cuando es interrumpida por el paso de un alevín activa la captura de la fotografía. La cámara envía la foto capturada a través del protocolo TCP al sistema de visión en dónde se lleva a cabo el flujo de acciones recogido en el siguiente diagrama.\n",
    "\n",
    "```{figure} .././assets/Modulo-1.png\n",
    ":name: Figura_WP1_imagen.2\n",
    ":alt: Flujograma del módulo de captura\n",
    ":width: 50%\n",
    ":align: center\n",
    "\n",
    "Flujograma del módulo de captura\n",
    "```\n",
    "\n",
    "El motor que controla el flujo de acciones se ha desarrollado sobre la base de Node-RED. Node-RED es una herramienta de programación visual basada en flujos desarrollada inicialmente por IBM, que permite integrar dispositivos, APIs y servicios mediante nodos configurables. Su arquitectura está construida sobre Node.js, lo que le proporciona un alto rendimiento y la capacidad de ejecutar procesos en tiempo real sobre hardware ligero (desde servidores industriales hasta dispositivos embebidos como Raspberry Pi). Los flujos en Node-RED se representan gráficamente, facilitando la implementación de sistemas complejos en entornos de IoT e Industria 4.0. Además, su ecosistema de nodos permite la integración directa con protocolos industriales (p. ej., MQTT, OPC-UA, Modbus, TCP-UDP), bases de datos, sistemas de control (PLC) y librerías externas en Python o C++, lo que lo convierte en una plataforma idónea para la adquisición y procesamiento de datos heterogéneos.\n",
    "\n",
    "En el contexto del módulo de captura de imágenes descrito, Node-RED ofrece ventajas críticas: permite orquestar la señal de disparo proveniente de una barrera, gestiona la adquisición de la imagen junto con sus metadatos (timestamp, ID, parámetros de cámara...) y aplicar rutinas de validación para garantizar la integridad del frame capturado. El hecho adicional de poder programar funciones personalizadas en JavaScript o integrar scripts externos en Python, permite ejecutar código necesario para validar si la imagen es utilizable (`¿Frame válido?`) antes de enviarla a etapas posteriores de procesado, minimizando errores y pérdidas de información. El flujo responsable de la adquisición y los nodos implicados se refleja en la siguiente figura.\n",
    "\n",
    "```{figure} .././assets/Modulo-1_nodered.png\n",
    ":name: Figura_WP1_imagen.3\n",
    ":alt: Flujo Node-RED Modulo-1\n",
    ":width: 100%\n",
    ":align: center\n",
    "\n",
    "Flujo de acciones responsable del módulo de captura de imagen\n",
    "```"
   ]
  },
  {
   "cell_type": "code",
   "execution_count": null,
   "id": "00fd941c-ab29-4dcd-a951-c23dcf0f9db6",
   "metadata": {},
   "outputs": [],
   "source": []
  }
 ],
 "metadata": {
  "kernelspec": {
   "display_name": "Python 3 (ipykernel)",
   "language": "python",
   "name": "python3"
  },
  "language_info": {
   "codemirror_mode": {
    "name": "ipython",
    "version": 3
   },
   "file_extension": ".py",
   "mimetype": "text/x-python",
   "name": "python",
   "nbconvert_exporter": "python",
   "pygments_lexer": "ipython3",
   "version": "3.12.0"
  }
 },
 "nbformat": 4,
 "nbformat_minor": 5
}
