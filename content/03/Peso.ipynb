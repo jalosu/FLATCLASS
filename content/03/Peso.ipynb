{
 "cells": [
  {
   "cell_type": "markdown",
   "id": "a770ec52-f4ce-48c1-9817-9dcc0ba00c69",
   "metadata": {},
   "source": [
    "# Desarrollo Experimental de un Modelo de IA para la Estimación del Peso"
   ]
  },
  {
   "cell_type": "markdown",
   "id": "11ebb7e0-97ed-44c7-bb59-3117ccc40892",
   "metadata": {},
   "source": [
    "````{admonition} Resumen \n",
    ":class: tip\n",
    "\n",
    "La predicción del peso del lenguado (*Solea solea*) a partir de su tamaño es un problema relevante en acuicultura, especialmente para la optimización de la alimentación y el control del crecimiento. Este estudio presenta un método para el desarrollo de un algoritmo de predicción del peso del lenguado a partir de variables morfológicas extraídas mediante visión artificial. Las variables consideradas incluyen la longitud, la anchura y la superficie real del pez, obtenidas automáticamente a partir de imágenes digitales en condiciones controladas. El algoritmo, basado en técnicas de regresión y aprendizaje automático, se ha diseñado para integrarse en un sistema autónomo de clasificación y estimación de peso en tiempo real, con aplicación directa al *gradding* automatizado de alevines en tres categorías de tamaño: pequeño, mediano y grande. Este enfoque proporciona una solución precisa y escalable para optimizar el manejo de peces en sistemas de acuicultura, contribuyendo a una mejora en la eficiencia operativa y el bienestar animal.\n",
    "\n",
    "**Entregable**: E3.1  \n",
    "**Versión**: 1.0  \n",
    "**Autor**: Javier Álvarez Osuna  \n",
    "**Email**: javier.osuna@fishfarmfeeder.com  \n",
    "**ORCID**: [0000-0001-7063-1279](https://orcid.org/0000-0001-7063-1279)  \n",
    "**Licencia**: CC-BY-4.0  \n",
    "**Código proyecto**: IG408M.2025.000.000072\n",
    "\n",
    "```{figure} .././assets/FLATCLASS_logo_publicidad.png\n",
    ":width: 100%\n",
    ":align: center\n",
    "```\n",
    "````"
   ]
  },
  {
   "cell_type": "markdown",
   "id": "fe00a65d-2c4e-4fbf-a14b-caa4e3b910e3",
   "metadata": {
    "editable": true,
    "slideshow": {
     "slide_type": ""
    },
    "tags": []
   },
   "source": [
    "## Introducción \n",
    "\n",
    "En este capítulo se describen las líneas de trabajo desarrolladas, en el marco del proyecto FLATCLASS, para el desarrollo de un modelo predictivo basado en Inteligencia Artificial (IA) para estimar el peso de ejemplares de lenguado utilizando las variables morfométricas de lenguado obtenidas mediante visión artificial. El propósito del modelo es desarrollar una herramienta no invasiva, escalable y en tiempo real, que cumpla con los requisitos de robustez y precisión necesarios en entornos de producción acuícola. El planteamiento metodológico combina técnicas de aprendizaje supervisado con variables morfométricas clave como longitud, ancho y altura corporal, lo que permite capturar relaciones no lineales con la masa del pescado.\n",
    "\n",
    "En estudios recientes como el de [Tengtrairat et al., 2022](https://doi.org/10.3390/s22145161), se aplicó una combinación de visión estereoscópica y regresiones profundas para estimar peso de tilapia con un error medio de 30 g y un R² del 0,70. Del mismo modo, [Lopez‑Tejeida et al., 2023]( https://doi.org/10.3390/app13010069) demostraron que el uso de cámaras infrarrojas NIR y regresión matemática permite reducir el estrés en el pez y mejorar la precisión del modelo de peso con una metodología no invasiva. Estos enfoques validan científicamente la relevancia y aplicabilidad de los métodos que presentamos.\n",
    "\n",
    "Adicionalmente, trabajos como los de [Konovalov et al., 2019](https://doi.org/10.48550/arXiv.1909.02710) y [Moseli et al., 2024](https://doi.org/10.48550/arXiv.1909.02710) confirman que las redes neuronales convolucionales permiten segmentar y estimar pesos con errores inferiores al 5% en poblaciones variadas. Nuestro diseño experimental plantea una estructura reproducible basada en: (1) adquisición de imágenes bajo condiciones controladas, (2) extracción de información morfométrica y etiquetado de muestras, (3) entrenamiento de modelos de IA con validación cruzada, y (4) evaluación de desempeño mediante métricas estadísticas y técnicas de análisis de error. Esto garantiza una base sólida tanto para la validación como para la futura implementación del modelo en escenarios reales."
   ]
  },
  {
   "cell_type": "code",
   "execution_count": null,
   "id": "193188b9-e636-42f9-a5b9-82e62f7fa806",
   "metadata": {},
   "outputs": [],
   "source": []
  }
 ],
 "metadata": {
  "bibliography": [],
  "kernelspec": {
   "display_name": "Python 3 (ipykernel)",
   "language": "python",
   "name": "python3"
  },
  "language_info": {
   "codemirror_mode": {
    "name": "ipython",
    "version": 3
   },
   "file_extension": ".py",
   "mimetype": "text/x-python",
   "name": "python",
   "nbconvert_exporter": "python",
   "pygments_lexer": "ipython3",
   "version": "3.11.13"
  },
  "suppress_bibliography": true
 },
 "nbformat": 4,
 "nbformat_minor": 5
}
