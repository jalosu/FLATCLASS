{
 "cells": [
  {
   "cell_type": "markdown",
   "id": "b160a6de-0f8b-4a29-9b7b-efed4bd4ff64",
   "metadata": {},
   "source": [
    "# M4 - Salida y persistencia"
   ]
  },
  {
   "cell_type": "markdown",
   "id": "53275d88-7b26-4970-89ad-ae437df26af1",
   "metadata": {},
   "source": [
    "El último de los bloques definido en el flujograma {numref}`Figura_WP1_imagen.1` es el responsable de la ejecución del pipeline de procesado de imagen y el registro en MongoDB de los datos obtenidos del pipeline.\n",
    "\n",
    "Para ello se ha generado un flujo en Node-RED que recibe la imagen obtenida (ver módulo M1-Captura) y ejecuta el código python de extracción de imágenes. La información de salida del pipeline es recogida y estructurada adecuadamente para su inclusión en la base de datos. La definición formal del JSON es la siguiente: \n",
    "\n",
    "```json\n",
    "{\n",
    "  \"$schema\": \"https://json-schema.org/draft/2020-12/schema\",\n",
    "  \"title\": \"FishMeasurement\",\n",
    "  \"type\": \"object\",\n",
    "  \"properties\": {\n",
    "    \"timestamp\": {\n",
    "      \"type\": \"string\",\n",
    "      \"format\": \"date-time\",\n",
    "      \"description\": \"Marca temporal ISO 8601 de la medición (ej. 2025-10-15T09:30:00Z)\"\n",
    "    },\n",
    "    \"metrics\": {\n",
    "      \"type\": \"object\",\n",
    "      \"properties\": {\n",
    "        \"pixels\": {\n",
    "          \"type\": \"object\",\n",
    "          \"properties\": {\n",
    "            \"long\": {\n",
    "              \"type\": \"number\",\n",
    "              \"multipleOf\": 0.01,\n",
    "              \"description\": \"Longitud en píxeles (2 decimales)\"\n",
    "            },\n",
    "            \"width\": {\n",
    "              \"type\": \"number\",\n",
    "              \"multipleOf\": 0.01,\n",
    "              \"description\": \"Anchura en píxeles (2 decimales)\"\n",
    "            },\n",
    "            \"surface\": {\n",
    "              \"type\": \"number\",\n",
    "              \"multipleOf\": 0.01,\n",
    "              \"description\": \"Superficie en píxeles cuadrados (2 decimales)\"\n",
    "            }\n",
    "          },\n",
    "          \"required\": [\"long\", \"width\", \"surface\"]\n",
    "        },\n",
    "        \"mm\": {\n",
    "          \"type\": \"object\",\n",
    "          \"properties\": {\n",
    "            \"long\": {\n",
    "              \"type\": \"number\",\n",
    "              \"multipleOf\": 0.01,\n",
    "              \"description\": \"Longitud en milímetros (2 decimales)\"\n",
    "            },\n",
    "            \"width\": {\n",
    "              \"type\": \"number\",\n",
    "              \"multipleOf\": 0.01,\n",
    "              \"description\": \"Anchura en milímetros (2 decimales)\"\n",
    "            },\n",
    "            \"surface\": {\n",
    "              \"type\": \"number\",\n",
    "              \"multipleOf\": 0.01,\n",
    "              \"description\": \"Superficie en milímetros cuadrados (2 decimales)\"\n",
    "            }\n",
    "          },\n",
    "          \"required\": [\"long\", \"width\", \"surface\"]\n",
    "        }\n",
    "      },\n",
    "      \"required\": [\"pixels\", \"mm\"]\n",
    "    },\n",
    "    \"size\": {\n",
    "      \"type\": \"string\",\n",
    "      \"enum\": [\"small\", \"medium\", \"large\"],\n",
    "      \"description\": \"Clasificación del pez según sus dimensiones\"\n",
    "    }\n",
    "  },\n",
    "  \"required\": [\"timestamp\", \"metrics\", \"size\"]\n",
    "}\n",
    "```"
   ]
  },
  {
   "cell_type": "markdown",
   "id": "853e8c85-2085-4dd5-8adb-12cc254b9ad0",
   "metadata": {},
   "source": [
    "El flujo de Node-Red responsable de salida y persistencia de los datos es el que se recoge en la {numref}`Figura_WP1_imagen.8`.\n",
    "\n",
    "```{figure} .././assets/Modulo-4_nodered.png\n",
    ":name: Figura_WP1_imagen.8\n",
    ":alt: Flujo Node-RED Modulo-4\n",
    ":width: 100%\n",
    ":align: center\n",
    "\n",
    "Flujo Node-RED para persistencia de datos de tamaño\n",
    "```\n"
   ]
  },
  {
   "cell_type": "code",
   "execution_count": null,
   "id": "da83175b-ff48-4522-88c1-a37ca768da4e",
   "metadata": {},
   "outputs": [],
   "source": []
  }
 ],
 "metadata": {
  "kernelspec": {
   "display_name": "Python 3 (ipykernel)",
   "language": "python",
   "name": "python3"
  },
  "language_info": {
   "codemirror_mode": {
    "name": "ipython",
    "version": 3
   },
   "file_extension": ".py",
   "mimetype": "text/x-python",
   "name": "python",
   "nbconvert_exporter": "python",
   "pygments_lexer": "ipython3",
   "version": "3.12.0"
  }
 },
 "nbformat": 4,
 "nbformat_minor": 5
}
