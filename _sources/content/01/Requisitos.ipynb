{
 "cells": [
  {
   "cell_type": "markdown",
   "id": "dc7b845c-abde-4dbc-a0fa-6e6c3265cf7f",
   "metadata": {},
   "source": [
    "# Especificación de requisitos"
   ]
  },
  {
   "cell_type": "markdown",
   "id": "1d11716b-d338-4ff3-8a32-dd7f1fd5349f",
   "metadata": {},
   "source": [
    "````{admonition} Resumen \n",
    ":class: tip\n",
    "\n",
    "El presente documento recoge de forma estructurada los requisitos funcionales y técnicos necesarios para el desarrollo del sistema FLATCLASS, una solución automatizada basada en visión artificial e inteligencia artificial para la clasificación en tiempo real de alevines de lenguado. En él se definen los criterios operativos para la captura de imágenes, calibración de tamaños, clasificación morfométrica, estimación de peso, y separación automatizada de los ejemplares, así como los mecanismos de trazabilidad, visualización y seguridad en el acceso a los datos.\n",
    "\n",
    "**Entregable**: E1.1  \n",
    "**Versión**: 1.0  \n",
    "**Autor**: Javier Álvarez Osuna  \n",
    "**Email**: javier.osuna@fishfarmfeeder.com  \n",
    "**ORCID**: [0000-0001-7063-1279](https://orcid.org/0000-0001-7063-1279)  \n",
    "**Licencia**: CC-BY-4.0  \n",
    "**Código proyecto**: IG408M.2025.000.000072\n",
    "\n",
    "```{figure} .././assets/FLATCLASS_logo_publicidad.png\n",
    ":width: 100%\n",
    ":align: center\n",
    "```\n",
    "\n",
    "````"
   ]
  },
  {
   "cell_type": "markdown",
   "id": "555c8441-6178-4202-883b-79dcdf22f23f",
   "metadata": {},
   "source": [
    "## Introducción\n",
    "El presente documento define los requisitos funcionales y técnicos del sistema **FLATCLASS**, un sistema de clasificación automatizada de alevines de lenguado especialmenteá orientado a mejorar la eficiencia y trazabilidad del proceso de *gradding* dentro de entornos acuícolas.\n",
    "\n",
    "Este sistema se basa en una arquitectura de procesamiento distribuido que integra visión artificial, algoritmos de procesamiento de imágenes y modelos de aprendizaje automático para la clasificación y estimación del peso de los alevines en tiempo real. El flujo operativo se divide en dos fases principales: una fase de muestreo y parametrización, en la que se establecen los criterios de clasificación a partir del análisis estadístico de una muestra representativa, y una fase de operación continua, en la que el sistema ejecuta la clasificación y la estimación de peso de cada pez mientras este atraviesa la línea de producción.\n",
    "\n",
    "```{figure} ./../assets/Modelo_funcional.png\n",
    ":name: Figura_1\n",
    ":alt: Modelo Funcional\n",
    ":width: 100%\n",
    ":align: center\n",
    "```"
   ]
  },
  {
   "cell_type": "markdown",
   "id": "6dde3a71-a54d-41e0-8588-a2bc6b72f388",
   "metadata": {},
   "source": [
    "Para cada uno de los procesos se han identificado las restricciones necesarias para garantizar que el sistema cumple con las funcionalidades esperadas. Dichas restricciones se han clasificado en uno de los siguientes grupos de requisitos: funcionales, técnicos y deseables."
   ]
  },
  {
   "cell_type": "markdown",
   "id": "ec809fd5-7b84-4930-9e9b-a7809a472dfe",
   "metadata": {},
   "source": [
    "## Requisitos Funcionales\n",
    "\n",
    "| **Código** | **Proceso**  | **Requisito Funcional**                                                                                                  |\n",
    "|------------|--------------|------------------------------------------------------------------------------------------------------------|\n",
    "| **RF01**   |  Captura y análisis de imagen | El sistema debe procesar un alevín cada 5 segundos por canal, con un total de 4 canales funcionando en paralelo. |\n",
    "| **RF02**   |  Captura y análisis de imagen | Resolución de imagen: las imágenes deben capturarse a resolución 1920x1080 px usando cámaras para asegurar precisión morfométrica. |\n",
    "| **RF03**   | Clasificación y separación | Cada sesión empieza una calibración previa con N ≤ 200 imágenes para definir rangos de tamaño establecidos por el usuario (pequeño, mediano, grande). |\n",
    "| **RF04**   | Clasificación y separación |  Separación automática en 4 categorías: el sistema debe clasificar en pequeño, mediano, grande o error.                |\n",
    "| **RF05**   | Calsificación y separación  | Inferencia de peso por IA: el sistema debe estimar el peso con un error máximo del 5% utilizando regresión multiparamétrica en log-transformada. |\n",
    "| **RF06**   | Clasificación y separación  | Separación física automatizada: los peces deben desviarse mediante compuertas automáticas según su categoría.            |\n",
    "| **RF07**   | Visualización  | Visualización y control en interfaz web: el sistema deberá permitir parametrización, visualización en tiempo real y acceso a históricos. |\n",
    "| **RF08**   | Registro de datos  | Gestión de datos y trazabilidad: todos los datos se almacenan en MongoDB con UID, timestamp, medidas, peso y clasificación. |\n",
    "| **RF09**   | Visualización  | Validación supervisada: debe permitir revisar manualmente clasificaciones dudosas para retroalimentación del sistema.     |"
   ]
  },
  {
   "cell_type": "markdown",
   "id": "820b228a-d58a-4c66-a95c-5198ac95f202",
   "metadata": {},
   "source": [
    "## Requisitos Técnicos\n",
    "\n",
    "| **Código** | **Requisito Técnico** |\n",
    "|------------|------------------------|\n",
    "| **RT01** | Arquitectura híbrida: procesamiento Edge con GPU avanzada (Jetson u otra), backend en Python y control en Node-RED. |\n",
    "| **RT02** | Modelo de datos: MongoDB almacenará UID, timestamp, dimensiones, clasificación y predicción de peso. |\n",
    "| **RT03** | Interfaz multiusuario: mínimo 2 perfiles (operador y supervisor) con distintos permisos. |\n",
    "| **RT04** | API REST: el sistema debe implementar al menos los siguientes endpoints:<br>• `GET /records?from=YYYY-MM-DD&to=YYYY-MM-DD`: Recupera registros procesados en el intervalo de fechas indicado.<br>• `GET /record/{id}`: Devuelve los datos completos del pez individual con ID específico.<br>• `GET /summary`: Proporciona un resumen estadístico por lote (número por categoría, medias de peso y superficie).<br>• `POST /calibration`: Envía un nuevo conjunto de umbrales de clasificación definidos por el usuario.<br>• `GET /image/{id}`: Accede a la imagen almacenada correspondiente al pez con ID único. |\n",
    "| **RT05** | Seguridad de acceso a API:<br>• Autenticación mediante token (JWT o equivalente).<br>• Cifrado obligatorio vía HTTPS.<br>• Registro de logs con IP, usuario y timestamp.<br>• Control de acceso por roles (lectura, escritura, administración).<br>• Almacenamiento seguro de credenciales con rotación periódica. |\n"
   ]
  },
  {
   "cell_type": "markdown",
   "id": "556330b0-d23c-43e4-b342-39d5f1d81a93",
   "metadata": {},
   "source": [
    "## Requisitos Deseables\n",
    "\n",
    "| **Código** | **Requisito Deseable** |\n",
    "|------------|-------------------------|\n",
    "| **RD01** | Minimización del estrés animal mediante separación suave. |\n",
    "| **RD02** | Cifrado opcional de datos y versionado de modelos IA. |\n",
    "| **RD03** | Sistema de alerta por error recurrente o desviación de modelo. |\n"
   ]
  },
  {
   "cell_type": "code",
   "execution_count": null,
   "id": "c56fdf26-25d0-44aa-857a-1de5437d9ed3",
   "metadata": {},
   "outputs": [],
   "source": []
  }
 ],
 "metadata": {
  "kernelspec": {
   "display_name": "Python 3 (ipykernel)",
   "language": "python",
   "name": "python3"
  },
  "language_info": {
   "codemirror_mode": {
    "name": "ipython",
    "version": 3
   },
   "file_extension": ".py",
   "mimetype": "text/x-python",
   "name": "python",
   "nbconvert_exporter": "python",
   "pygments_lexer": "ipython3",
   "version": "3.12.0"
  }
 },
 "nbformat": 4,
 "nbformat_minor": 5
}
